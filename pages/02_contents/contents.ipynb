{
 "cells": [
  {
   "cell_type": "raw",
   "metadata": {},
   "source": [
    "---\n",
    "layout: page\n",
    "title: Noe innhold\n",
    "sidebar_link: true\n",
    "---"
   ]
  },
  {
   "cell_type": "markdown",
   "metadata": {},
   "source": [
    "Det er mye forskjellig vi kan legge inn. For eksempel har vi en relativt enkel syntaks for å legge på youtube-videoer: \n",
    "\n",
    "```\n",
    "{% include youtubePlayer.html id=\"LF4JNPfNGgs\" %}\n",
    "```\n",
    "\n",
    "I `id`-feltet legger man youtube-videoen sin id slik den fremkommer i url'en på youtube. Det vil i praksis føre til at vi ser video slik som dette:\n",
    "\n",
    "{% include youtubePlayer.html id=\"LF4JNPfNGgs\" %}"
   ]
  },
  {
   "cell_type": "code",
   "execution_count": null,
   "metadata": {},
   "outputs": [],
   "source": []
  }
 ],
 "metadata": {
  "kernelspec": {
   "display_name": "Python 3",
   "language": "python",
   "name": "python3"
  },
  "language_info": {
   "codemirror_mode": {
    "name": "ipython",
    "version": 3
   },
   "file_extension": ".py",
   "mimetype": "text/x-python",
   "name": "python",
   "nbconvert_exporter": "python",
   "pygments_lexer": "ipython3",
   "version": "3.7.0"
  }
 },
 "nbformat": 4,
 "nbformat_minor": 2
}
